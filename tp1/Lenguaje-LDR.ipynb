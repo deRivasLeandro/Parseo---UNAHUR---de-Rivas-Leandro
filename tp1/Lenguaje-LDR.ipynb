{
  "cells": [
    {
      "cell_type": "markdown",
      "metadata": {},
      "source": [
        "# \ud83d\udcd8 Lenguajes Formales y Aut\u00f3matas\n",
        "Este notebook contiene las definiciones en BNF, aut\u00f3matas y el **diagrama de Conway para LDR**."
      ]
    },
    {
      "cell_type": "markdown",
      "metadata": {},
      "source": [
        "## \ud83d\udd39 Definici\u00f3n en BNF\n",
        "```\n",
        "<programa> ::= <sentencias> <funciones>\n",
        "\n",
        "<sentencias> ::= <sentencia> | <sentencia> <sentencias>\n",
        "<sentencia> ::= <asignacion> | <condicional> | <iteracion> | <llamada_funcion>\n",
        "\n",
        "<funciones> ::= <funcion> | <funcion> <funciones>\n",
        "<funcion> ::= def <identificador> ( <parametros> ) { <sentencias> }\n",
        "\n",
        "<parametros> ::= <identificador> | <identificador> , <parametros> | \u03b5\n",
        "<asignacion> ::= <identificador> = <expresion>\n",
        "<expresion> ::= <identificador> | <constante> | <expresion> <operador> <expresion>\n",
        "<condicional> ::= if ( <expresion> ) { <sentencias> } else { <sentencias> }\n",
        "<iteracion> ::= while ( <expresion> ) { <sentencias> }\n",
        "<llamada_funcion> ::= <identificador> ( <argumentos> )\n",
        "<argumentos> ::= <expresion> | <expresion> , <argumentos> | \u03b5\n",
        "\n",
        "<identificador> ::= letra (letra | digito)*\n",
        "<constante> ::= digito+\n",
        "<operador> ::= + | - | * | /\n",
        "```\n"
      ]
    },
    {
      "cell_type": "markdown",
      "metadata": {},
      "source": [
        "## \ud83d\udd39 Diagrama de Conway para LDR\n",
        "El lenguaje **LDR (Load-Register)** se define con las siguientes reglas:\n",
        "\n",
        "```\n",
        "S \u2192 L A\n",
        "A \u2192 D R\n",
        "L \u2192 'L'\n",
        "D \u2192 'D'\n",
        "R \u2192 'R'\n",
        "```\n"
      ]
    },
    {
      "cell_type": "code",
      "execution_count": null,
      "metadata": {},
      "outputs": [],
      "source": [
        "import graphviz\n",
        "\n",
        "# Crear grafo de Conway para LDR\n",
        "g = graphviz.Digraph('Conway_LDR', format='png')\n",
        "g.attr(rankdir='LR', size='8')\n",
        "\n",
        "# Nodos\n",
        "g.node('S', shape='circle')\n",
        "g.node('A', shape='circle')\n",
        "g.node('L', shape='circle')\n",
        "g.node('D', shape='circle')\n",
        "g.node('R', shape='doublecircle')  # R es estado de aceptaci\u00f3n\n",
        "\n",
        "# Transiciones\n",
        "g.edge('S', 'L', label='L')\n",
        "g.edge('L', 'A', label='\u03b5')\n",
        "g.edge('A', 'D', label='D')\n",
        "g.edge('D', 'R', label='R')\n",
        "\n",
        "g.render('/mnt/data/Conway_LDR', cleanup=True)\n",
        "g"
      ]
    },
    {
      "cell_type": "markdown",
      "metadata": {},
      "source": [
        "El diagrama de Conway generado representa el lenguaje **LDR** y acepta la cadena `'LDR'`."
      ]
    }
  ],
  "metadata": {
    "kernelspec": {
      "display_name": "Python 3",
      "language": "python",
      "name": "python3"
    },
    "language_info": {
      "name": "python",
      "version": "3.10"
    }
  },
  "nbformat": 4,
  "nbformat_minor": 5
}