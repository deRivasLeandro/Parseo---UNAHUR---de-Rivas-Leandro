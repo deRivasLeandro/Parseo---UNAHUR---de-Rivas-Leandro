{
  "cells": [
    {
      "cell_type": "markdown",
      "id": "339b73b3-3b1c-4557-b285-de10177f9ece",
      "metadata": {},
      "source": [
        "# TP Introducción\n",
        "---"
      ]
    },
    {
      "cell_type": "markdown",
      "id": "724e08c5-5e77-4a0e-9202-4da97c865066",
      "metadata": {},
      "source": [
        "## Mapa conceptual"
      ]
    },
    {
      "cell_type": "code",
      "execution_count": null,
      "id": "be8ee74b-c406-4cd5-ae30-f1e703db5fb0",
      "metadata": {},
      "outputs": [],
      "source": [
        "%%mermaid\n",
        "graph TD;\n",
        "    A[Lenguaje de Programación LDR] --> B[Características Generales];\n",
        "    A --> C[Estructura del Programa];\n",
        "    A --> D[Especificaciones Léxicas];\n",
        "    A --> E[Especificaciones Sintácticas];\n",
        "    A --> F[Especificaciones Semánticas];\n",
        "\n",
        "    B --> B1[Paradigma Imperativo Estructurado];\n",
        "    B --> B2[Tipado Estático y Fuerte];\n",
        "    B --> B3[Orientado a Procedimientos/Funciones];\n",
        "    B1 --> B1.1[Control de flujo: Condicionales, Iteraciones];\n",
        "    B3 --> B3.1[Paso de Parámetros Posicional];\n",
        "\n",
        "    C --> C1[INICIO ... FIN];\n",
        "    C --> C2[Sentencias finalizadas con ';'];\n",
        "    C --> C3[Bloques de control de flujo];\n",
        "\n",
        "    D --> D1[Variables: Mayúsculas A-Z + opc. Números];\n",
        "    D --> D2[Tipos de datos: NUM, CAR, ARR];\n",
        "    D --> D3[Palabras Clave: INICIO, FIN, SI, SINO, etc.];\n",
        "    D1 --> D1.1[Ej: X, Z1, VAR99];\n",
        "\n",
        "    E --> E1[Gramática BNF];\n",
        "    E1 --> E1.1[<programa>];\n",
        "    E1 --> E1.2[<sentencia>];\n",
        "    E1 --> E1.3[<declaracion>, <asignacion>];\n",
        "    E1 --> E1.4[<condicional>, <iteracion>];\n",
        "    E1 --> E1.5[<llamado_funcion>, <definicion_funcion>];\n",
        "\n",
        "    F --> F1[Reglas de Tipos];\n",
        "    F --> F2[Sobrecarga de Operadores];\n",
        "    F --> F3[Ámbito de Variables];\n",
        "    F1 --> F1.1[Error de aridad, Error de tipo];\n",
        "    F2 --> F2.1[CAR + NUM -> ASCII];\n",
        "    F2 --> F2.2[ARR + ARR -> Concatenación];\n",
        "    F2 --> F2.3[ARR * NUM -> Repetición];\n",
        "    F3 --> F3.1[Global y Local];\n",
        "    F3.1 --> F3.1.1[Parámetros de función como variables locales];\n"
      ]
    },
    {
      "cell_type": "markdown",
      "id": "14578311-401c-4d2a-b6ab-74d488448a12",
      "metadata": {},
      "source": [
        "## Lenguaje a crear"
      ]
    },
    {
      "cell_type": "markdown",
      "id": "3cbd96bc-7509-4909-9ffc-30f12a9433a1",
      "metadata": {},
      "source": [
        "### Objetivo"
      ]
    },
    {
      "cell_type": "code",
      "execution_count": null,
      "id": "dd6e006d-3615-44d4-a3cf-bc6bbb948461",
      "metadata": {},
      "outputs": [],
      "source": [
        "// LDR es un lenguaje de programación de propósito general, simple y de paradigma imperativo estructurado."
      ]
    },
    {
      "cell_type": "markdown",
      "id": "72e244b4-a7b5-44ff-9c81-f2de96871542",
      "metadata": {},
      "source": [
        "### Alcance"
      ]
    },
    {
      "cell_type": "code",
      "execution_count": null,
      "id": "bf619b67-00ea-4ad3-b2e5-9a743da248c3",
      "metadata": {},
      "outputs": [],
      "source": [
        "// El lenguaje soporta declaraciones, asignaciones, operaciones aritméticas, condicionales, iteraciones e impresión en pantalla.\n",
        "// Incluye tipos de datos primitivos (NUM, CAR) y compuestos (ARR).\n",
        "// También soporta la definición e invocación de subprogramas (procedimientos) con parámetros."
      ]
    },
    {
      "cell_type": "markdown",
      "id": "aa8516b2-701f-4afe-aafc-5a2acfda3df6",
      "metadata": {},
      "source": [
        "### Especificaciones léxicas"
      ]
    },
    {
      "cell_type": "code",
      "execution_count": null,
      "id": "935c8a41-027b-4d53-ba65-37954e2be427",
      "metadata": {},
      "outputs": [],
      "source": [
        "// El programa inicia con la palabra clave `INICIO` y finaliza con `FIN`.\n",
        "// Las variables se escriben con letras mayúsculas (A–Z) seguidas opcionalmente de uno o más números, Ejemplos: `X`, `Z1`, `VAR99`.\n",
        "// Las sentencias finalizan con punto y coma (;).\n",
        "// Los tipos de datos primitivos son `NUM` y `CAR`.\n",
        "// El tipo de dato compuesto es `ARR`.\n",
        "// Los números son secuencias de dígitos [0-9]+.\n",
        "// Los caracteres son un único carácter encerrado entre comillas simples, Ej: `'A'`."
      ]
    },
    {
      "cell_type": "markdown",
      "id": "a3034dce-4b36-4e2c-b264-d2e388087546",
      "metadata": {},
      "source": [
        "### Especificaciones sintácticas"
      ]
    },
    {
      "cell_type": "code",
      "execution_count": null,
      "id": "f5fabb53-5075-4d50-ab58-eb4cac5639ae",
      "metadata": {},
      "outputs": [],
      "source": [
        "// La estructura principal del programa es `<programa> ::= \"INICIO\" <bloque> \"FIN\"`.\n",
        "// Un programa puede contener definiciones de funciones y sentencias.\n",
        "// Las sentencias válidas son: declaración (`VAR tipo;`), asignación (`VAR = valor;`), impresión (`IMPRIMIR VAR;`), condicional (`SI...SINO...FINSI;`), iteración (`MIENTRAS...FINMIENTRAS;`) e invocación de función (`NOMBRE(ARGUMENTOS);`).\n",
        "// Las funciones se definen con la sintaxis `FUNCION NOMBRE(PARAMS) ... FINFUNCION`.\n",
        "// Las expresiones soportadas son infijas, permitiendo operaciones aritméticas (`+`, `-`, `*`, `/`) y de comparación (`<`, `>`, `==`, etc.)."
      ]
    },
    {
      "cell_type": "markdown",
      "id": "cdbe9002-6fba-404a-89d2-90d55294b58e",
      "metadata": {},
      "source": [
        "### Especificaciones semánticas"
      ]
    },
    {
      "cell_type": "code",
      "execution_count": null,
      "id": "daf2f5f8-c636-48f8-8749-a94750132377",
      "metadata": {},
      "outputs": [],
      "source": [
        "// **Tipado y Conversión:** El tipado es estático y fuerte. Los caracteres (`CAR`) se convierten implícitamente a su valor ASCII para operar con números (`NUM`).\n",
        "// **Sobrecarga de Operadores:** El operador `+` concatena arreglos (`ARR`), y `*` los repite. Los operadores aritméticos sobrecargados operan en `CAR` y `NUM`.\n",
        "// **Funciones:** No devuelven valores (son procedimientos). Los parámetros se ligan posicionalmente y son variables locales. Se producen errores de aridad y de tipo en la llamada de funciones si no coinciden la cantidad o el tipo de argumentos, respectivamente.\n",
        "// **Ámbito:** Las variables tienen ámbito global y local (dentro de las funciones)."
      ]
    }
  ],
  "metadata": {
    "kernelspec": {
      "display_name": "Python [conda env:base] *",
      "language": "python",
      "name": "conda-base-py"
    },
    "language_info": {
      "codemirror_mode": {
        "name": "ipython",
        "version": 3
      },
      "file_extension": ".py",
      "mimetype": "text/x-python",
      "name": "python",
      "nbconvert_exporter": "python",
      "pygments_lexer": "ipython3",
      "version": "3.12.7"
    }
  },
  "nbformat": 4,
  "nbformat_minor": 5
}