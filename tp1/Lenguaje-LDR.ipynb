{
 "cells": [
  {
   "cell_type": "markdown",
   "metadata": {},
   "source": [
    "# Lenguaje de Definición de Reglas (LDR)"
   ]
  },
  {
   "cell_type": "markdown",
   "metadata": {},
   "source": [
    "## Mapa conceptual\n",
    "```mermaid\n",
    "flowchart TD\n",
    "    A[LDR] --> B[Objetivo]\n",
    "    A --> C[Especificaciones]\n",
    "    A --> D[Ejemplos]\n",
    "    A --> E[Diagrama de Conway]\n",
    "    C --> C1[Léxicas]\n",
    "    C --> C2[Sintácticas]\n",
    "    C --> C3[Semánticas]\n",
    "```"
   ]
  },
  {
   "cell_type": "markdown",
   "metadata": {},
   "source": [
    "## Objetivo\n",
    "El LDR (Lenguaje de Definición de Reglas) es un lenguaje formal de paradigma imperativo y estructurado, cuyo propósito es **definir y ejecutar reglas** con condiciones y acciones.\n",
    "\n",
    "Permite trabajar con **expresiones aritméticas, lógicas y de comparación**, estructuras de control (`SI`, `SINO`, `MIENTRAS`), y **subprogramas** (funciones), con tipado estático y fuerte."
   ]
  },
  {
   "cell_type": "markdown",
   "metadata": {},
   "source": [
    "## Alcance\n",
    "**Incluye**:\n",
    "- Declaración y asignación de variables con tipo (NUM, CAR).\n",
    "- Funciones con parámetros (por valor) y retorno obligatorio.\n",
    "- Control de flujo: `SI / SINO`, `MIENTRAS`.\n",
    "- Operadores aritméticos, lógicos y de comparación.\n",
    "- Concatenación de arrays con `+` y multiplicación con `*`.\n",
    "- Recursividad directa e indirecta.\n",
    "- Tipado estático y fuerte.\n",
    "- Independencia de la máquina.\n",
    "\n",
    "**Excluye**:\n",
    "- Objetos, clases y orientación a objetos.\n",
    "- Entrada/salida avanzada (solo `print`).\n",
    "- Excepciones sofisticadas.\n",
    "- Concurrencia."
   ]
  },
  {
   "cell_type": "markdown",
   "metadata": {},
   "source": [
    "## Especificaciones léxicas\n",
    "- **Identificadores**: secuencias de vocales (`a, e, i, o, u`) con repetición.\n",
    "- **Palabras reservadas**: `INICIO`, `FIN`, `SI`, `SINO`, `MIENTRAS`, `FUNCION`, `FINFUNCION`, `retorno`, `print`.\n",
    "- **Operadores**: `+`, `-`, `*`, `/`, `==`, `!=`, `<`, `>`, `<=`, `>=`, `&&`, `||`, `!`.\n",
    "- **Constantes**: enteros (`num`), cadenas de vocales (`cad`), booleanos (`ver` / `fal`).\n",
    "- **Símbolos especiales**: `;`, `(`, `)`, `{`, `}`."
   ]
  },
  {
   "cell_type": "markdown",
   "metadata": {},
   "source": [
    "## Especificaciones sintácticas (BNF)\n",
    "```\n",
    "<programa> ::= \"INICIO\" <bloque> \"FIN\"\n",
    "\n",
    "<bloque> ::= <definiciones_funcion> <sentencias>\n",
    "\n",
    "<definiciones_funcion> ::= <definicion_funcion> <definiciones_funcion> | λ\n",
    "\n",
    "<definicion_funcion> ::= \"FUNCION\" <nombre> \"(\" <parametros>? \")\" <sentencias> \"FINFUNCION\"\n",
    "\n",
    "<parametros> ::= <parametro> (\",\" <parametro>)*\n",
    "<parametro> ::= <variable> <tipo>\n",
    "\n",
    "<sentencias> ::= <sentencia> <sentencias> | λ\n",
    "\n",
    "<sentencia> ::= <asignacion> | <if_stmt> | <while_stmt> | <print_stmt> | <invocacion>\n",
    "\n",
    "<if_stmt> ::= \"SI\" \"(\" <expr> \")\" <sentencias> [\"SINO\" <sentencias>]\n",
    "<while_stmt> ::= \"MIENTRAS\" \"(\" <expr> \")\" <sentencias>\n",
    "<print_stmt> ::= \"print\" \"(\" <expr> \")\" \";\"\n",
    "\n",
    "<expr> ::= <expr_bin> | <expr_un> | <primario>\n",
    "<expr_bin> ::= <expr> <op_bin> <expr>\n",
    "<expr_un> ::= \"!\" <primario>\n",
    "<primario> ::= <literal> | <identificador> | \"(\" <expr> \")\"\n",
    "\n",
    "<op_bin> ::= \"+\" | \"-\" | \"*\" | \"/\" | \"&&\" | \"||\" | \"<\" | \">\" | \"<=\" | \">=\" | \"==\" | \"!=\"\n",
    "\n",
    "<literal> ::= <numero> | <logico> | <cadena>\n",
    "<numero> ::= [0-9]+\n",
    "<logico> ::= \"ver\" | \"fal\"\n",
    "<cadena> ::= \"\\\"\" [aeiou]* \"\\\"\"\n",
    "<identificador> ::= [aeiou]+\n",
    "```"
   ]
  },
  {
   "cell_type": "markdown",
   "metadata": {},
   "source": [
    "## Especificaciones semánticas\n",
    "- **Tipos disponibles**: `num` (enteros), `cad` (cadenas de vocales), `log` (booleanos).\n",
    "- **Tipado estático y fuerte**: una variable mantiene su tipo durante toda la ejecución.\n",
    "\n",
    "**Proyecciones de tipos:**\n",
    "- N(x):\n",
    "  - num → valor del número\n",
    "  - log → 0 (fal) o 1 (ver)\n",
    "  - cad → longitud de la cadena\n",
    "- T(x):\n",
    "  - num → verdadero si != 0, falso si == 0\n",
    "  - log → valor booleano directo\n",
    "  - cad → verdadero si != \"\", falso si == \"\"\n",
    "\n",
    "**Operadores:**\n",
    "- Aritméticos (+ - * /) → entre números.\n",
    "- Comparación (< > <= >= == !=) → resultado `log`.\n",
    "- Lógicos binarios (&&, ||) → resultado `log`.\n",
    "- Lógico unario (!) → resultado `log`.\n",
    "\n",
    "**Funciones:**\n",
    "- Retorno obligatorio, del mismo tipo declarado.\n",
    "- Parámetros por valor, con defaults permitidos.\n",
    "- Recursión permitida (directa o indirecta).\n",
    "- Cada invocación crea un nuevo entorno local."
   ]
  },
  {
   "cell_type": "markdown",
   "metadata": {},
   "source": [
    "## Ejemplos\n",
    "```\n",
    "INICIO\n",
    "  a:num = 5;\n",
    "  e:cad = \"aeiou\";\n",
    "  SI (a > 3) print(e);\n",
    "FIN\n",
    "```\n",
    "\n",
    "Ejemplo con función:\n",
    "```\n",
    "INICIO\n",
    "  FUNCION suma(a:num, b:num)\n",
    "    retorno a + b;\n",
    "  FINFUNCION\n",
    "\n",
    "  print(suma(3,4));\n",
    "FIN\n",
    "```"
   ]
  },
  {
   "cell_type": "markdown",
   "metadata": {},
   "source": [
    "## Diagrama de Conway\n",
    "```mermaid\n",
    "flowchart TD\n",
    "    Programa --> INICIO\n",
    "    Programa --> Bloque\n",
    "    Programa --> FIN\n",
    "    Bloque --> Definiciones[Definiciones de funciones]\n",
    "    Bloque --> Sentencias\n",
    "    Sentencias --> Asignacion\n",
    "    Sentencias --> If[Condicional]\n",
    "    Sentencias --> While[Bucle]\n",
    "    Sentencias --> Print[Print]\n",
    "    Sentencias --> Invocacion[Invocación de función]\n",
    "    If --> Expr\n",
    "    While --> Expr\n",
    "    Expr --> Operadores\n",
    "    Operadores --> Ar[+ - * /]\n",
    "    Operadores --> Log[&& || !]\n",
    "    Operadores --> Comp[< > <= >= == !=]\n",
    "    Expr --> Literal\n",
    "    Literal --> Num\n",
    "    Literal --> Cad\n",
    "    Literal --> Logico\n",
    "```"
   ]
  }
 ],
 "metadata": {
  "kernelspec": {
   "display_name": "Python 3",
   "language": "python",
   "name": "python3"
  },
  "language_info": {
   "name": "python",
   "version": "3.10"
  }
 },
 "nbformat": 4,
 "nbformat_minor": 5
}