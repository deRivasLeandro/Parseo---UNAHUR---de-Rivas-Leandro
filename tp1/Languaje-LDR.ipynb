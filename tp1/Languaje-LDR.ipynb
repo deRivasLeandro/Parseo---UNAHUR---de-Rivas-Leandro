{
 "cells": [
  {
   "cell_type": "markdown",
   "metadata": {},
   "source": [
    "# Lenguaje de Definición de Reglas (LDR)"
   ]
  },
  {
   "cell_type": "markdown",
   "metadata": {},
   "source": [
    "## Mapa conceptual\n",
    "```mermaid\n",
    "flowchart TD\n",
    "    A[LDR] --> B[Objetivo]\n",
    "    A --> C[Especificaciones]\n",
    "    A --> D[Ejemplos]\n",
    "    A --> E[Diagrama de Conway]\n",
    "    C --> C1[Léxicas]\n",
    "    C --> C2[Sintácticas]\n",
    "    C --> C3[Semánticas]\n",
    "```"
   ]
  },
  {
   "cell_type": "markdown",
   "metadata": {},
   "source": [
    "## Objetivo\n",
    "El LDR (Lenguaje de Definición de Reglas) es un lenguaje formal que permite expresar, manipular y validar reglas de producción, condiciones y restricciones dentro de un sistema. Su objetivo principal es **representar de manera clara y formal un conjunto de reglas** que pueden ser usadas en compiladores, intérpretes o motores de inferencia."
   ]
  },
  {
   "cell_type": "markdown",
   "metadata": {},
   "source": [
    "## Alcance\n",
    "- Definir reglas con condiciones y acciones.\n",
    "- Permitir la representación de restricciones de manera declarativa.\n",
    "- Facilitar la validación automática mediante análisis léxico, sintáctico y semántico.\n",
    "- Ser base para implementaciones en sistemas expertos, compiladores o lenguajes de consulta."
   ]
  },
  {
   "cell_type": "markdown",
   "metadata": {},
   "source": [
    "## Especificaciones léxicas\n",
    "- Identificadores: secuencias de letras, dígitos o guiones bajos (ej: `Regla1`, `cond_x`).\n",
    "- Palabras reservadas: `SI`, `ENTONCES`, `Y`, `O`, `NO`.\n",
    "- Operadores relacionales: `=`, `!=`, `<`, `>`, `<=`, `>=`.\n",
    "- Constantes: enteros, reales o cadenas.\n",
    "- Símbolos especiales: `;`, `(`, `)`."
   ]
  },
  {
   "cell_type": "markdown",
   "metadata": {},
   "source": [
    "## Especificaciones sintácticas\n",
    "Una regla en LDR sigue la estructura:\n",
    "```\n",
    "Regla -> SI Condición ENTONCES Acción ;\n",
    "Condición -> Expresión ( (Y | O) Expresión )*\n",
    "Expresión -> Identificador Operador Constante\n",
    "Acción -> Identificador = Constante\n",
    "```\n",
    "\n",
    "Ejemplo en BNF:\n",
    "```\n",
    "<regla> ::= 'SI' <condicion> 'ENTONCES' <accion> ';'\n",
    "<condicion> ::= <expresion> { ('Y' | 'O') <expresion> }\n",
    "<expresion> ::= <identificador> <operador> <constante>\n",
    "<accion> ::= <identificador> '=' <constante>\n",
    "```"
   ]
  },
  {
   "cell_type": "markdown",
   "metadata": {},
   "source": [
    "## Especificaciones semánticas\n",
    "- Toda condición debe evaluar a un valor booleano (verdadero o falso).\n",
    "- Las acciones solo pueden modificar variables previamente declaradas.\n",
    "- El tipo de la constante asignada debe ser compatible con el identificador destino.\n",
    "- Las reglas deben finalizar con `;`."
   ]
  },
  {
   "cell_type": "markdown",
   "metadata": {},
   "source": [
    "## Ejemplos\n",
    "```\n",
    "SI temperatura > 30 Y humedad < 50 ENTONCES ventilador = encendido;\n",
    "\n",
    "SI cliente = \"moroso\" O deuda > 1000 ENTONCES credito = bloqueado;\n",
    "```"
   ]
  },
  {
   "cell_type": "markdown",
   "metadata": {},
   "source": [
    "## Diagrama de Conway\n",
    "\n",
    "```mermaid\n",
    "flowchart TD\n",
    "    R[Regla] --> SI\n",
    "    R --> Condicion\n",
    "    R --> ENTONCES\n",
    "    R --> Accion\n",
    "    Condicion --> Expresion\n",
    "    Condicion --> Operador[ Y / O ]\n",
    "    Expresion --> Identificador\n",
    "    Expresion --> OperadorRel[=, !=, <, >, <=, >=]\n",
    "    Expresion --> Constante\n",
    "    Accion --> Identificador\n",
    "    Accion --> '='\n",
    "    Accion --> Constante\n",
    "```"
   ]
  }
 ],
 "metadata": {
  "kernelspec": {
   "display_name": "Python 3",
   "language": "python",
   "name": "python3"
  },
  "language_info": {
   "name": "python",
   "version": "3.10"
  }
 },
 "nbformat": 4,
 "nbformat_minor": 5
}
